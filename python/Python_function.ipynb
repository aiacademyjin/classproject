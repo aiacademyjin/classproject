{
 "cells": [
  {
   "cell_type": "code",
   "execution_count": 6,
   "metadata": {
    "collapsed": true
   },
   "outputs": [
    {
     "name": "stdout",
     "output_type": "stream",
     "text": [
      "['AA', 'BB', 'CC']\n",
      "\n",
      "<enumerate object at 0x0000015124777F00>\n",
      "[(0, 'AA'), (1, 'BB'), (2, 'CC')]\n",
      "0 AA\n",
      "\n",
      "0 AA\n",
      "1 BB\n",
      "2 CC\n"
     ]
    }
   ],
   "source": [
    "list_ex = ['AA', 'BB', 'CC']\n",
    "\n",
    "# list_ex 출력\n",
    "print(list_ex);\n",
    "print()\n",
    "\n",
    "# list_ex -> ennumerate() : 요소들의 index를 사용하기 위해 enumerate 객체로 변환\n",
    "list_ex_en = enumerate(list_ex)\n",
    "print(list_ex_en)\n",
    "\n",
    "# enumerate 객체 -> list 객체\n",
    "list_ex2 = list(list_ex_en)\n",
    "print(list_ex2)\n",
    "\n",
    "# 변수의 초기화( 할당 )\n",
    "i, v = list_ex2[0]\n",
    "\n",
    "print(i, v)\n",
    "\n",
    "print()\n",
    "\n",
    "for i, v in list_ex2:\n",
    "    print(i, v)\n",
    "\n"
   ]
  },
  {
   "cell_type": "code",
   "execution_count": 10,
   "metadata": {
    "collapsed": true
   },
   "outputs": [
    {
     "name": "stdout",
     "output_type": "stream",
     "text": [
      "{'name': '메시', 'number': 10, 'team': 'FCB'}\n",
      "\n",
      "dict_items([('name', '메시'), ('number', 10), ('team', 'FCB')])\n",
      "\n",
      "메시의 정보 ================\n",
      "name : 메시\n",
      "number : 10\n",
      "team : FCB\n"
     ]
    }
   ],
   "source": [
    "# dic의 속성을 일괄 처리 \n",
    "# item() \n",
    "# : dic의 속성과 값을 하나로묶어 요소로 만들고 이 요소들을 가지는 리스트를 반환\n",
    "\n",
    "dic_player = {\n",
    "    'name':'메시',\n",
    "    'number': 10,\n",
    "    'team': 'FCB'\n",
    "}\n",
    "\n",
    "print(dic_player)\n",
    "print()\n",
    "\n",
    "\n",
    "# dic -> list\n",
    "list_player_att = dic_player.items()\n",
    "print(list_player_att)\n",
    "\n",
    "\n",
    "print()\n",
    "print('메시의 정보 ================')\n",
    "for key, value in list_player_att:\n",
    "    print(key, ':', value)\n"
   ]
  },
  {
   "cell_type": "code",
   "execution_count": 15,
   "metadata": {
    "collapsed": true
   },
   "outputs": [
    {
     "name": "stdout",
     "output_type": "stream",
     "text": [
      "[0, 4, 16, 36, 64, 100, 144, 196, 256, 324]\n",
      "\n",
      "[0, 4, 16, 36, 64, 100, 144, 196, 256, 324]\n",
      "\n",
      "[144, 196, 256, 324]\n"
     ]
    }
   ],
   "source": [
    "# list 요소 생성\n",
    "# 1\n",
    "array = []\n",
    "\n",
    "for i in range(0, 20, 2):\n",
    "    array.append(i*i)\n",
    "\n",
    "print(array)\n",
    "\n",
    "print()\n",
    "\n",
    "# 2\n",
    "array2 = [i*i for i in range(0, 20, 2)]\n",
    "print(array2)\n",
    "\n",
    "print()\n",
    "\n",
    "# 3\n",
    "array3 = [i for i in array2 if i>100]\n",
    "print(array3)\n"
   ]
  },
  {
   "cell_type": "code",
   "execution_count": 16,
   "metadata": {
    "collapsed": true
   },
   "outputs": [
    {
     "name": "stdout",
     "output_type": "stream",
     "text": [
      "A\n",
      "A\n",
      "A\n"
     ]
    }
   ],
   "source": [
    "# 함수 정의\n",
    "# def 함수이름(매개변수, 매개변수, ...)\n",
    "\n",
    "def print_3_times():\n",
    "    print('A')\n",
    "    print('A')\n",
    "    print('A')\n",
    "\n",
    "print_3_times()"
   ]
  },
  {
   "cell_type": "code",
   "execution_count": 22,
   "metadata": {
    "collapsed": true
   },
   "outputs": [
    {
     "name": "stdout",
     "output_type": "stream",
     "text": [
      "Python\n",
      "Python\n",
      "함수의 기능 실행 완료\n"
     ]
    },
    {
     "ename": "TypeError",
     "evalue": "print_n_times() missing 1 required positional argument: 'n'",
     "output_type": "error",
     "traceback": [
      "\u001b[1;31m---------------------------------------------------------------------------\u001b[0m",
      "\u001b[1;31mTypeError\u001b[0m                                 Traceback (most recent call last)",
      "\u001b[1;32m<ipython-input-22-5c9ee618a0d8>\u001b[0m in \u001b[0;36m<module>\u001b[1;34m\u001b[0m\n\u001b[0;32m      7\u001b[0m \u001b[0mprint_n_times\u001b[0m\u001b[1;33m(\u001b[0m\u001b[1;34m'Python'\u001b[0m\u001b[1;33m,\u001b[0m\u001b[1;36m2\u001b[0m\u001b[1;33m)\u001b[0m\u001b[1;33m\u001b[0m\u001b[1;33m\u001b[0m\u001b[0m\n\u001b[0;32m      8\u001b[0m \u001b[1;33m\u001b[0m\u001b[0m\n\u001b[1;32m----> 9\u001b[1;33m \u001b[0mprint_n_times\u001b[0m\u001b[1;33m(\u001b[0m\u001b[1;34m'Python'\u001b[0m\u001b[1;33m)\u001b[0m\u001b[1;33m\u001b[0m\u001b[1;33m\u001b[0m\u001b[0m\n\u001b[0m\u001b[0;32m     10\u001b[0m \u001b[1;31m#print_n_times('Python','five')\u001b[0m\u001b[1;33m\u001b[0m\u001b[1;33m\u001b[0m\u001b[1;33m\u001b[0m\u001b[0m\n\u001b[0;32m     11\u001b[0m \u001b[1;33m\u001b[0m\u001b[0m\n",
      "\u001b[1;31mTypeError\u001b[0m: print_n_times() missing 1 required positional argument: 'n'"
     ]
    }
   ],
   "source": [
    "def print_n_times(val, n):\n",
    "    for i in range(n):\n",
    "        print(val)\n",
    "        \n",
    "    print('함수의 기능 실행 완료')\n",
    "\n",
    "print_n_times('Python',2)\n",
    "\n",
    "print_n_times('Python')\n",
    "#print_n_times('Python','five')\n",
    "    "
   ]
  },
  {
   "cell_type": "code",
   "execution_count": 23,
   "metadata": {
    "collapsed": true
   },
   "outputs": [
    {
     "name": "stdout",
     "output_type": "stream",
     "text": [
      "HI~\n",
      "funny\n",
      "Python Programming\n",
      "\n",
      "HI~\n",
      "funny\n",
      "Python Programming\n",
      "\n",
      "HI~\n",
      "funny\n",
      "Python Programming\n",
      "\n",
      "함수 종료\n"
     ]
    }
   ],
   "source": [
    "# 함수의 가변 매개변수\n",
    "def print_times(n, *vals):\n",
    "    \n",
    "    for i in range(n):\n",
    "        \n",
    "        for val in vals:\n",
    "            print(val)\n",
    "        \n",
    "        print()\n",
    "    \n",
    "    print('함수 종료')\n",
    "    \n",
    "\n",
    "print_times(3, 'HI~', 'funny', 'Python Programming')\n",
    "    "
   ]
  },
  {
   "cell_type": "code",
   "execution_count": 28,
   "metadata": {},
   "outputs": [
    {
     "name": "stdout",
     "output_type": "stream",
     "text": [
      "aa bb cc\taa/bb/cc\t11:11:32\n"
     ]
    }
   ],
   "source": [
    "# 기본 매개벼수\n",
    "# print -> sep=' ', end='\\n' , file=sys.stdout, flush=False\n",
    "print('aa', 'bb', 'cc', end='\\t')\n",
    "print('aa', 'bb', 'cc', sep='/', end='\\t')\n",
    "print('11', '11', '32', sep=':')\n",
    "\n"
   ]
  },
  {
   "cell_type": "code",
   "execution_count": 32,
   "metadata": {
    "collapsed": true
   },
   "outputs": [
    {
     "name": "stdout",
     "output_type": "stream",
     "text": [
      "HI~\n",
      "funny\n",
      "Python Programming\n",
      "\n",
      "HI~\n",
      "funny\n",
      "Python Programming\n",
      "\n",
      "HI~\n",
      "funny\n",
      "Python Programming\n",
      "\n",
      "함수 종료\n"
     ]
    }
   ],
   "source": [
    "# 함수의 가변 매개변수\n",
    "def print_nn_times(*vals, n=2):\n",
    "    \n",
    "    for i in range(n):\n",
    "        \n",
    "        for val in vals:\n",
    "            print(val)\n",
    "        \n",
    "        print()\n",
    "    \n",
    "    print('함수 종료')\n",
    "    \n",
    "\n",
    "print_nn_times('HI~', 'funny', 'Python Programming', n=3)\n",
    "    "
   ]
  },
  {
   "cell_type": "code",
   "execution_count": 35,
   "metadata": {},
   "outputs": [
    {
     "name": "stdout",
     "output_type": "stream",
     "text": [
      "None\n"
     ]
    }
   ],
   "source": [
    "# 함수의 return\n",
    "\n",
    "def func():\n",
    "    return\n",
    "\n",
    "print(func())\n"
   ]
  },
  {
   "cell_type": "code",
   "execution_count": 39,
   "metadata": {},
   "outputs": [
    {
     "name": "stdout",
     "output_type": "stream",
     "text": [
      "10 20 30 40 50 60\n",
      "20 10 30 40 50 60\n"
     ]
    }
   ],
   "source": [
    "# 튜플\n",
    "\n",
    "a,b = [10, 20]\n",
    "(c,d) = (30, 40)\n",
    "\n",
    "e,f = 50, 60\n",
    "\n",
    "print(a,b,c,d,e,f )\n",
    "\n",
    "a, b = b , a\n",
    "\n",
    "print(a,b,c,d,e,f )"
   ]
  },
  {
   "cell_type": "code",
   "execution_count": 46,
   "metadata": {
    "collapsed": true
   },
   "outputs": [
    {
     "name": "stdout",
     "output_type": "stream",
     "text": [
      "<map object at 0x00000151252A5EE0>\n",
      "[1, 4, 9, 16, 25]\n",
      "<filter object at 0x00000151252A5550>\n",
      "[1, 2]\n"
     ]
    }
   ],
   "source": [
    "def power(item):\n",
    "    return item*item\n",
    "\n",
    "def under_3(item):\n",
    "    return item<3;\n",
    "\n",
    "list_a = [1,2,3,4,5]\n",
    "\n",
    "# map() 이용해서 리스트 생성\n",
    "# output_a = map(power, list_a)\n",
    "# lamda 를 이용한 함수 정의\n",
    "output_a = map(lambda x: x*x , list_a)\n",
    "print(output_a)\n",
    "output_list_a = list(output_a)\n",
    "print(output_list_a)\n",
    "\n",
    "# filter\n",
    "#output_b = filter(under_3, list_a)\n",
    "output_b = filter(lambda x: x<3, list_a)\n",
    "print(output_b)\n",
    "output_list_b = list(output_b)\n",
    "print(output_list_b)"
   ]
  },
  {
   "cell_type": "code",
   "execution_count": 47,
   "metadata": {},
   "outputs": [],
   "source": [
    "# open() : 파일 I/O 처리할때 사용\n",
    "\n",
    "file = open('basic.txt', 'w')\n",
    "\n",
    "file.write('Hello~ Python !!')\n",
    "\n",
    "file.close()\n"
   ]
  },
  {
   "cell_type": "code",
   "execution_count": 48,
   "metadata": {},
   "outputs": [],
   "source": [
    "# with : open() 함수 사용 후 close() 함수를 자동으로 호출\n",
    "\n",
    "with open('basic.txt', 'w') as file:\n",
    "    file.write('Hi~ Python !!')"
   ]
  },
  {
   "cell_type": "code",
   "execution_count": 51,
   "metadata": {},
   "outputs": [
    {
     "name": "stdout",
     "output_type": "stream",
     "text": [
      "<class 'str'>\n",
      "Hi~ Python !!\n"
     ]
    }
   ],
   "source": [
    "# read() : 파일의 내용 텍스트 읽기\n",
    "\n",
    "with open('basic.txt', 'r') as file:\n",
    "    content = file.read()\n",
    "    print(type(content))\n",
    "    print(content)"
   ]
  },
  {
   "cell_type": "code",
   "execution_count": 54,
   "metadata": {},
   "outputs": [
    {
     "name": "stdout",
     "output_type": "stream",
     "text": [
      "['가', '나', '다', '라', '마', '바', '사', '아', '자', '차', '카', '타', '파', '하']\n",
      "파일 생성 완료\n"
     ]
    }
   ],
   "source": [
    "import random\n",
    "\n",
    "han = list('가나다라마바사아자차카타파하')\n",
    "print(han)\n",
    "\n",
    "with open('info.txt', 'w') as file:\n",
    "    \n",
    "    for i in range(1000):\n",
    "        name = random.choice(han) + random.choice(han) + random.choice(han)\n",
    "        weight = random.randrange(40, 100)\n",
    "        height = random.randrange(140, 200)\n",
    "\n",
    "        file.write('{}, {}, {}\\n'.format(name, weight, height))\n",
    "    \n",
    "    print('파일 생성 완료')\n"
   ]
  },
  {
   "cell_type": "code",
   "execution_count": 61,
   "metadata": {},
   "outputs": [
    {
     "name": "stdout",
     "output_type": "stream",
     "text": [
      "파아나, 81, 164, 30.116002379535995, 과체중\n",
      "아라마, 46, 193, 12.34932481408897, 저체중\n",
      "하바하, 95, 169, 33.2621406813487, 과체중\n",
      "사사가, 94, 166, 34.11235302656409, 과체중\n",
      "가하자, 59, 160, 23.046874999999996, 과체중\n",
      "아라사, 88, 179, 27.46481071127618, 과체중\n",
      "바아차, 96, 145, 45.65992865636147, 과체중\n",
      "차가차, 58, 197, 14.944986987554433, 저체중\n",
      "사아하, 62, 171, 21.20310522895934, 정상체중\n",
      "아바차, 48, 169, 16.806134238997235, 저체중\n",
      "아하아, 60, 163, 22.582709172343712, 정상체중\n",
      "마아가, 43, 140, 21.938775510204085, 정상체중\n",
      "다아라, 62, 158, 24.83576349943919, 과체중\n",
      "가카타, 41, 195, 10.782380013149245, 저체중\n",
      "아사차, 84, 198, 21.4263850627487, 정상체중\n",
      "카라타, 96, 151, 42.103416516819436, 과체중\n",
      "라차하, 56, 151, 24.560326301478007, 과체중\n",
      "라가다, 48, 161, 18.517804097064154, 정상체중\n",
      "다가사, 49, 178, 15.465219038000251, 저체중\n",
      "하하하, 87, 171, 29.75274443418488, 과체중\n",
      "카다라, 84, 192, 22.786458333333336, 정상체중\n",
      "아사나, 79, 182, 23.849776597029344, 과체중\n",
      "아마가, 52, 143, 25.42911633820725, 과체중\n",
      "다다가, 68, 192, 18.446180555555557, 저체중\n",
      "사차가, 65, 195, 17.094017094017094, 저체중\n",
      "나카아, 95, 164, 35.32123735871506, 과체중\n",
      "타타다, 91, 161, 35.10667026735079, 과체중\n",
      "차자파, 93, 160, 36.32812499999999, 과체중\n",
      "사라마, 61, 174, 20.147971991015986, 정상체중\n",
      "카카파, 96, 158, 38.45537574106713, 과체중\n",
      "파다차, 67, 147, 31.005599518719055, 과체중\n"
     ]
    }
   ],
   "source": [
    "with open('info.txt', 'r') as file:\n",
    "    \n",
    "    cnt = 0;\n",
    "    \n",
    "    for line in file :\n",
    "        \n",
    "        if cnt > 30 :\n",
    "            break        \n",
    "        #print(line.strip())        \n",
    "        \n",
    "        \n",
    "        name, weight, height = line.strip().split(', ')\n",
    "        \n",
    "        # 변수의 값의 유무를 확인하고 값을 처리하지 않는 처리\n",
    "        if (not name) or (not weight) or (not height):\n",
    "            continue\n",
    "        \n",
    "        # 비만도 계산\n",
    "        bmi = int(weight) / ((int(height)/100) * (int(height)/100))\n",
    "        \n",
    "        \n",
    "        result = ''        \n",
    "        if bmi >= 23 :\n",
    "            result = '과체중'\n",
    "        elif bmi >= 18.5 :\n",
    "            result = '정상체중'\n",
    "        else :\n",
    "            result = '저체중'\n",
    "        \n",
    "        print('{}, {}, {}, {}, {}'.format(name, weight, height, bmi, result))\n",
    "        \n",
    "        cnt += 1\n",
    "            \n",
    "        \n",
    "     "
   ]
  },
  {
   "cell_type": "code",
   "execution_count": null,
   "metadata": {},
   "outputs": [],
   "source": []
  },
  {
   "cell_type": "code",
   "execution_count": null,
   "metadata": {},
   "outputs": [],
   "source": []
  },
  {
   "cell_type": "code",
   "execution_count": null,
   "metadata": {},
   "outputs": [],
   "source": []
  },
  {
   "cell_type": "code",
   "execution_count": null,
   "metadata": {},
   "outputs": [],
   "source": []
  },
  {
   "cell_type": "code",
   "execution_count": null,
   "metadata": {},
   "outputs": [],
   "source": []
  }
 ],
 "metadata": {
  "kernelspec": {
   "display_name": "Python 3",
   "language": "python",
   "name": "python3"
  },
  "language_info": {
   "codemirror_mode": {
    "name": "ipython",
    "version": 3
   },
   "file_extension": ".py",
   "mimetype": "text/x-python",
   "name": "python",
   "nbconvert_exporter": "python",
   "pygments_lexer": "ipython3",
   "version": "3.8.5"
  }
 },
 "nbformat": 4,
 "nbformat_minor": 4
}
