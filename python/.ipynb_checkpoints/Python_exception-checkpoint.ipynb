{
 "cells": [
  {
   "cell_type": "code",
   "execution_count": 2,
   "metadata": {},
   "outputs": [
    {
     "name": "stdout",
     "output_type": "stream",
     "text": [
      "정수를 입력해주세요. >>일곱\n",
      "예외가 발생했습니다.\n"
     ]
    }
   ],
   "source": [
    "try:\n",
    "    number_input_a = int(input('정수를 입력해주세요. >>'))\n",
    "    \n",
    "    print(\"제곱의 연산 결과 :\", number_input_a*number_input_a)\n",
    "    \n",
    "except: # 어떠한 예외이는 예외가 발생하면 이곳에서 처리\n",
    "    print('예외가 발생했습니다.')\n"
   ]
  },
  {
   "cell_type": "code",
   "execution_count": 5,
   "metadata": {},
   "outputs": [
    {
     "name": "stdout",
     "output_type": "stream",
     "text": [
      "정수를 입력해주세요. >>일\n"
     ]
    }
   ],
   "source": [
    "try:\n",
    "    number_input_a = int(input('정수를 입력해주세요. >>'))\n",
    "    \n",
    "    print(\"제곱의 연산 결과 :\", number_input_a*number_input_a)\n",
    "    \n",
    "except: # 어떠한 예외이는 예외가 발생하면 이곳에서 처리\n",
    "    pass # 처리할 내용이 없을 때 기술\n"
   ]
  },
  {
   "cell_type": "code",
   "execution_count": 8,
   "metadata": {},
   "outputs": [
    {
     "name": "stdout",
     "output_type": "stream",
     "text": [
      "정수를 입력해주세요. >>10\n",
      "제곱의 연산 결과 : 100\n"
     ]
    }
   ],
   "source": [
    "try:\n",
    "    # 예외 발생 예상 코드\n",
    "    number_input_a = int(input('정수를 입력해주세요. >>'))\n",
    "    \n",
    "except: # 어떠한 예외이는 예외가 발생하면 이곳에서 처리\n",
    "    #pass # 처리할 내용이 없을 때 기술\n",
    "    print('예외가 발생했습니다.')\n",
    "    \n",
    "else:\n",
    "    #예외가 발생하지 안았을 때 처리 구문\n",
    "    print(\"제곱의 연산 결과 :\", number_input_a*number_input_a)\n"
   ]
  },
  {
   "cell_type": "code",
   "execution_count": 10,
   "metadata": {},
   "outputs": [
    {
     "name": "stdout",
     "output_type": "stream",
     "text": [
      "정수를 입력해주세요. >>10\n",
      "제곱의 연산 결과 : 100\n",
      "프로그램을 종료합니다.\n"
     ]
    }
   ],
   "source": [
    "try:\n",
    "    # 예외 발생 예상 코드\n",
    "    number_input_a = int(input('정수를 입력해주세요. >>'))\n",
    "    \n",
    "except: # 어떠한 예외이는 예외가 발생하면 이곳에서 처리\n",
    "    #pass # 처리할 내용이 없을 때 기술\n",
    "    print('예외가 발생했습니다.')\n",
    "    \n",
    "else:\n",
    "    #예외가 발생하지 안았을 때 처리 구문\n",
    "    print(\"제곱의 연산 결과 :\", number_input_a*number_input_a)\n",
    "\n",
    "finally:\n",
    "    print('프로그램을 종료합니다.')\n",
    "    "
   ]
  },
  {
   "cell_type": "code",
   "execution_count": 11,
   "metadata": {},
   "outputs": [
    {
     "name": "stdout",
     "output_type": "stream",
     "text": [
      "정수를 입력해주세요. >>일\n",
      "예외가 발생했습니다.\n",
      "<class 'ValueError'>\n",
      "invalid literal for int() with base 10: '일'\n",
      "프로그램을 종료합니다.\n"
     ]
    }
   ],
   "source": [
    "try:\n",
    "    # 예외 발생 예상 코드\n",
    "    number_input_a = int(input('정수를 입력해주세요. >>'))\n",
    "    \n",
    "except Exception as e: # 어떠한 예외이는 예외가 발생하면 이곳에서 처리\n",
    "    #pass # 처리할 내용이 없을 때 기술\n",
    "    print('예외가 발생했습니다.')\n",
    "    print(type(e))\n",
    "    print(e)\n",
    "    \n",
    "else:\n",
    "    #예외가 발생하지 안았을 때 처리 구문\n",
    "    print(\"제곱의 연산 결과 :\", number_input_a*number_input_a)\n",
    "\n",
    "finally:\n",
    "    print('프로그램을 종료합니다.')\n",
    "    "
   ]
  },
  {
   "cell_type": "code",
   "execution_count": 14,
   "metadata": {},
   "outputs": [
    {
     "name": "stdout",
     "output_type": "stream",
     "text": [
      "리스트의 index를 입력하세요. >>10\n",
      "리스트의 범위를 벗어난 인덱스 값입니다.\n",
      "list index out of range\n"
     ]
    }
   ],
   "source": [
    "list_a = [10,20,30,40,50]\n",
    "\n",
    "try:\n",
    "    idx = int(input('리스트의 index를 입력하세요. >>')) # 예외발생 예상 구문\n",
    "    \n",
    "    print('{} 번째 요소 : {}'.format(idx, list_a[idx])) # 예외발생 예상 구문\n",
    "\n",
    "except ValueError as ve:\n",
    "    print('숫자만 입력해주세요.')\n",
    "    print(ve)\n",
    "except IndexError as ie: \n",
    "    print('리스트의 범위를 벗어난 인덱스 값입니다.')\n",
    "    print(ie)"
   ]
  },
  {
   "cell_type": "code",
   "execution_count": null,
   "metadata": {},
   "outputs": [],
   "source": []
  },
  {
   "cell_type": "code",
   "execution_count": null,
   "metadata": {},
   "outputs": [],
   "source": []
  },
  {
   "cell_type": "code",
   "execution_count": null,
   "metadata": {},
   "outputs": [],
   "source": []
  },
  {
   "cell_type": "code",
   "execution_count": null,
   "metadata": {},
   "outputs": [],
   "source": []
  },
  {
   "cell_type": "code",
   "execution_count": null,
   "metadata": {},
   "outputs": [],
   "source": []
  },
  {
   "cell_type": "code",
   "execution_count": null,
   "metadata": {},
   "outputs": [],
   "source": []
  },
  {
   "cell_type": "code",
   "execution_count": null,
   "metadata": {},
   "outputs": [],
   "source": []
  },
  {
   "cell_type": "code",
   "execution_count": null,
   "metadata": {},
   "outputs": [],
   "source": []
  },
  {
   "cell_type": "code",
   "execution_count": null,
   "metadata": {},
   "outputs": [],
   "source": []
  },
  {
   "cell_type": "code",
   "execution_count": null,
   "metadata": {},
   "outputs": [],
   "source": []
  }
 ],
 "metadata": {
  "kernelspec": {
   "display_name": "Python 3",
   "language": "python",
   "name": "python3"
  },
  "language_info": {
   "codemirror_mode": {
    "name": "ipython",
    "version": 3
   },
   "file_extension": ".py",
   "mimetype": "text/x-python",
   "name": "python",
   "nbconvert_exporter": "python",
   "pygments_lexer": "ipython3",
   "version": "3.8.5"
  }
 },
 "nbformat": 4,
 "nbformat_minor": 4
}
